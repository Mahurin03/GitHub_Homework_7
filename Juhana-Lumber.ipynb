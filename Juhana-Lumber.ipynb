{
 "cells": [
  {
   "cell_type": "markdown",
   "id": "5371f04c",
   "metadata": {},
   "source": [
    "# Lumber Prices\n",
    "\n",
    "* **Data:** `lumber-prices.csv`\n",
    "* **Description:** Chicago lumber futures per 1000 board feet, in USD, as of some time in 2021. To keep things simple, we're going to say that this is the measurement over a month instead of just one date per month. Basically: each month, how much you'd pay if you bought 125 2x4 boards at the hardware store.\n",
    "* **Source:** https://tradingeconomics.com/commodity/lumber\n",
    "* **Columns of interest:**\n",
    "    * `Open` is the price at the start of the month\n",
    "    * `High` is the high price over the course of the month\n",
    "    * `Low` is the low number over the course of the month\n",
    "    * `Close` is the number at the end of the month"
   ]
  },
  {
   "cell_type": "markdown",
   "id": "ffcf050f",
   "metadata": {},
   "source": [
    "## Read in your data"
   ]
  },
  {
   "cell_type": "code",
   "execution_count": 1,
   "id": "505f1e94",
   "metadata": {},
   "outputs": [
    {
     "name": "stdout",
     "output_type": "stream",
     "text": [
      "Juhana-Lumber.ipynb\n",
      "Lumber.ipynb\n",
      "lumber-prices.csv\n"
     ]
    }
   ],
   "source": [
    "!ls"
   ]
  },
  {
   "cell_type": "code",
   "execution_count": 2,
   "id": "9bbcece4",
   "metadata": {},
   "outputs": [],
   "source": [
    "import pandas as pd"
   ]
  },
  {
   "cell_type": "code",
   "execution_count": 3,
   "id": "ab5bf5ba",
   "metadata": {},
   "outputs": [],
   "source": [
    "df = pd.read_csv(\"lumber-prices.csv\")"
   ]
  },
  {
   "cell_type": "code",
   "execution_count": 4,
   "id": "d969e684",
   "metadata": {},
   "outputs": [
    {
     "data": {
      "text/html": [
       "<div>\n",
       "<style scoped>\n",
       "    .dataframe tbody tr th:only-of-type {\n",
       "        vertical-align: middle;\n",
       "    }\n",
       "\n",
       "    .dataframe tbody tr th {\n",
       "        vertical-align: top;\n",
       "    }\n",
       "\n",
       "    .dataframe thead th {\n",
       "        text-align: right;\n",
       "    }\n",
       "</style>\n",
       "<table border=\"1\" class=\"dataframe\">\n",
       "  <thead>\n",
       "    <tr style=\"text-align: right;\">\n",
       "      <th></th>\n",
       "      <th>open</th>\n",
       "      <th>high</th>\n",
       "      <th>low</th>\n",
       "      <th>close</th>\n",
       "      <th>date</th>\n",
       "    </tr>\n",
       "  </thead>\n",
       "  <tbody>\n",
       "    <tr>\n",
       "      <th>0</th>\n",
       "      <td>$407.00</td>\n",
       "      <td>$424.70</td>\n",
       "      <td>$377.00</td>\n",
       "      <td>$424.70</td>\n",
       "      <td>1996-12-09T00:00:00</td>\n",
       "    </tr>\n",
       "    <tr>\n",
       "      <th>1</th>\n",
       "      <td>$426.00</td>\n",
       "      <td>$450.50</td>\n",
       "      <td>$395.00</td>\n",
       "      <td>$411.40</td>\n",
       "      <td>1997-01-02T00:00:00</td>\n",
       "    </tr>\n",
       "    <tr>\n",
       "      <th>2</th>\n",
       "      <td>$408.50</td>\n",
       "      <td>$421.50</td>\n",
       "      <td>$382.10</td>\n",
       "      <td>$383.50</td>\n",
       "      <td>1997-02-03T00:00:00</td>\n",
       "    </tr>\n",
       "    <tr>\n",
       "      <th>3</th>\n",
       "      <td>$386.00</td>\n",
       "      <td>$389.70</td>\n",
       "      <td>$355.00</td>\n",
       "      <td>$380.50</td>\n",
       "      <td>1997-03-03T00:00:00</td>\n",
       "    </tr>\n",
       "    <tr>\n",
       "      <th>4</th>\n",
       "      <td>$378.00</td>\n",
       "      <td>$417.50</td>\n",
       "      <td>$376.50</td>\n",
       "      <td>$403.10</td>\n",
       "      <td>1997-04-01T00:00:00</td>\n",
       "    </tr>\n",
       "  </tbody>\n",
       "</table>\n",
       "</div>"
      ],
      "text/plain": [
       "      open     high      low    close                 date\n",
       "0  $407.00  $424.70  $377.00  $424.70  1996-12-09T00:00:00\n",
       "1  $426.00  $450.50  $395.00  $411.40  1997-01-02T00:00:00\n",
       "2  $408.50  $421.50  $382.10  $383.50  1997-02-03T00:00:00\n",
       "3  $386.00  $389.70  $355.00  $380.50  1997-03-03T00:00:00\n",
       "4  $378.00  $417.50  $376.50  $403.10  1997-04-01T00:00:00"
      ]
     },
     "execution_count": 4,
     "metadata": {},
     "output_type": "execute_result"
    }
   ],
   "source": [
    "df.head()"
   ]
  },
  {
   "cell_type": "markdown",
   "id": "e0403107",
   "metadata": {},
   "source": [
    "## What is the earliest month in this dataset?\n",
    "\n",
    "We only have one reading per month, so you could also read this as \"what is the earliest date in the dataset\""
   ]
  },
  {
   "cell_type": "code",
   "execution_count": 5,
   "id": "9dfd66cc",
   "metadata": {},
   "outputs": [
    {
     "data": {
      "text/html": [
       "<div>\n",
       "<style scoped>\n",
       "    .dataframe tbody tr th:only-of-type {\n",
       "        vertical-align: middle;\n",
       "    }\n",
       "\n",
       "    .dataframe tbody tr th {\n",
       "        vertical-align: top;\n",
       "    }\n",
       "\n",
       "    .dataframe thead th {\n",
       "        text-align: right;\n",
       "    }\n",
       "</style>\n",
       "<table border=\"1\" class=\"dataframe\">\n",
       "  <thead>\n",
       "    <tr style=\"text-align: right;\">\n",
       "      <th></th>\n",
       "      <th>open</th>\n",
       "      <th>high</th>\n",
       "      <th>low</th>\n",
       "      <th>close</th>\n",
       "      <th>date</th>\n",
       "    </tr>\n",
       "  </thead>\n",
       "  <tbody>\n",
       "    <tr>\n",
       "      <th>0</th>\n",
       "      <td>$407.00</td>\n",
       "      <td>$424.70</td>\n",
       "      <td>$377.00</td>\n",
       "      <td>$424.70</td>\n",
       "      <td>1996-12-09T00:00:00</td>\n",
       "    </tr>\n",
       "  </tbody>\n",
       "</table>\n",
       "</div>"
      ],
      "text/plain": [
       "      open     high      low    close                 date\n",
       "0  $407.00  $424.70  $377.00  $424.70  1996-12-09T00:00:00"
      ]
     },
     "execution_count": 5,
     "metadata": {},
     "output_type": "execute_result"
    }
   ],
   "source": [
    "df.head(1)"
   ]
  },
  {
   "cell_type": "markdown",
   "id": "4566b297",
   "metadata": {},
   "source": [
    "It is December 1996"
   ]
  },
  {
   "cell_type": "markdown",
   "id": "2cd14f08",
   "metadata": {},
   "source": [
    "## What is the most recent month in this dataset?\n",
    "\n",
    "We only have one reading per month, so you could also read this as \"what is the earliest date in the dataset\""
   ]
  },
  {
   "cell_type": "code",
   "execution_count": 6,
   "id": "80d23da2",
   "metadata": {},
   "outputs": [
    {
     "data": {
      "text/html": [
       "<div>\n",
       "<style scoped>\n",
       "    .dataframe tbody tr th:only-of-type {\n",
       "        vertical-align: middle;\n",
       "    }\n",
       "\n",
       "    .dataframe tbody tr th {\n",
       "        vertical-align: top;\n",
       "    }\n",
       "\n",
       "    .dataframe thead th {\n",
       "        text-align: right;\n",
       "    }\n",
       "</style>\n",
       "<table border=\"1\" class=\"dataframe\">\n",
       "  <thead>\n",
       "    <tr style=\"text-align: right;\">\n",
       "      <th></th>\n",
       "      <th>open</th>\n",
       "      <th>high</th>\n",
       "      <th>low</th>\n",
       "      <th>close</th>\n",
       "      <th>date</th>\n",
       "    </tr>\n",
       "  </thead>\n",
       "  <tbody>\n",
       "    <tr>\n",
       "      <th>299</th>\n",
       "      <td>$595.20</td>\n",
       "      <td>$831.80</td>\n",
       "      <td>$530.10</td>\n",
       "      <td>$824.50</td>\n",
       "      <td>2021-11-01T00:00:00</td>\n",
       "    </tr>\n",
       "  </tbody>\n",
       "</table>\n",
       "</div>"
      ],
      "text/plain": [
       "        open     high      low    close                 date\n",
       "299  $595.20  $831.80  $530.10  $824.50  2021-11-01T00:00:00"
      ]
     },
     "execution_count": 6,
     "metadata": {},
     "output_type": "execute_result"
    }
   ],
   "source": [
    "df.tail(1)"
   ]
  },
  {
   "cell_type": "markdown",
   "id": "3027195e",
   "metadata": {},
   "source": [
    "It is November 2021"
   ]
  },
  {
   "cell_type": "markdown",
   "id": "0a55273d",
   "metadata": {},
   "source": [
    "## What 3 months had the highest high lumber price?"
   ]
  },
  {
   "cell_type": "code",
   "execution_count": 7,
   "id": "0e5cf127",
   "metadata": {},
   "outputs": [
    {
     "name": "stderr",
     "output_type": "stream",
     "text": [
      "C:\\Users\\Juhana\\AppData\\Local\\Temp\\ipykernel_13124\\614808678.py:1: FutureWarning: The default value of regex will change from True to False in a future version. In addition, single character regular expressions will *not* be treated as literal strings when regex=True.\n",
      "  df.high = df.high.str.replace(\"$\", \"\")\n"
     ]
    }
   ],
   "source": [
    "df.high = df.high.str.replace(\"$\", \"\")\n",
    "df.high = df.high.astype(float)"
   ]
  },
  {
   "cell_type": "code",
   "execution_count": 8,
   "id": "aace54ae",
   "metadata": {},
   "outputs": [
    {
     "data": {
      "text/html": [
       "<div>\n",
       "<style scoped>\n",
       "    .dataframe tbody tr th:only-of-type {\n",
       "        vertical-align: middle;\n",
       "    }\n",
       "\n",
       "    .dataframe tbody tr th {\n",
       "        vertical-align: top;\n",
       "    }\n",
       "\n",
       "    .dataframe thead th {\n",
       "        text-align: right;\n",
       "    }\n",
       "</style>\n",
       "<table border=\"1\" class=\"dataframe\">\n",
       "  <thead>\n",
       "    <tr style=\"text-align: right;\">\n",
       "      <th></th>\n",
       "      <th>open</th>\n",
       "      <th>high</th>\n",
       "      <th>low</th>\n",
       "      <th>close</th>\n",
       "      <th>date</th>\n",
       "    </tr>\n",
       "  </thead>\n",
       "  <tbody>\n",
       "    <tr>\n",
       "      <th>293</th>\n",
       "      <td>$1520.60</td>\n",
       "      <td>1711.2</td>\n",
       "      <td>$1201.00</td>\n",
       "      <td>$1309.50</td>\n",
       "      <td>2021-05-03T00:00:00</td>\n",
       "    </tr>\n",
       "    <tr>\n",
       "      <th>292</th>\n",
       "      <td>$1012.60</td>\n",
       "      <td>1502.3</td>\n",
       "      <td>$1006.00</td>\n",
       "      <td>$1500.50</td>\n",
       "      <td>2021-04-01T00:00:00</td>\n",
       "    </tr>\n",
       "    <tr>\n",
       "      <th>294</th>\n",
       "      <td>$1315.00</td>\n",
       "      <td>1380.0</td>\n",
       "      <td>$705.00</td>\n",
       "      <td>$716.00</td>\n",
       "      <td>2021-06-01T00:00:00</td>\n",
       "    </tr>\n",
       "  </tbody>\n",
       "</table>\n",
       "</div>"
      ],
      "text/plain": [
       "         open    high       low     close                 date\n",
       "293  $1520.60  1711.2  $1201.00  $1309.50  2021-05-03T00:00:00\n",
       "292  $1012.60  1502.3  $1006.00  $1500.50  2021-04-01T00:00:00\n",
       "294  $1315.00  1380.0   $705.00   $716.00  2021-06-01T00:00:00"
      ]
     },
     "execution_count": 8,
     "metadata": {},
     "output_type": "execute_result"
    }
   ],
   "source": [
    "df.sort_values(by='high', ascending=False).head(3)"
   ]
  },
  {
   "cell_type": "markdown",
   "id": "58e94f60",
   "metadata": {},
   "source": [
    "The three months with highest high prices are May, April and June 2021"
   ]
  },
  {
   "cell_type": "markdown",
   "id": "ecf489fb",
   "metadata": {},
   "source": [
    "## What 3 months had the lowest low lumber price?"
   ]
  },
  {
   "cell_type": "code",
   "execution_count": 9,
   "id": "3998d1a8",
   "metadata": {},
   "outputs": [
    {
     "name": "stderr",
     "output_type": "stream",
     "text": [
      "C:\\Users\\Juhana\\AppData\\Local\\Temp\\ipykernel_13124\\179472617.py:1: FutureWarning: The default value of regex will change from True to False in a future version. In addition, single character regular expressions will *not* be treated as literal strings when regex=True.\n",
      "  df.low = df.low.str.replace(\"$\", \"\")\n"
     ]
    }
   ],
   "source": [
    "df.low = df.low.str.replace(\"$\", \"\")\n",
    "df.low = df.low.astype(float)"
   ]
  },
  {
   "cell_type": "code",
   "execution_count": 10,
   "id": "f2a8a22a",
   "metadata": {},
   "outputs": [
    {
     "data": {
      "text/html": [
       "<div>\n",
       "<style scoped>\n",
       "    .dataframe tbody tr th:only-of-type {\n",
       "        vertical-align: middle;\n",
       "    }\n",
       "\n",
       "    .dataframe tbody tr th {\n",
       "        vertical-align: top;\n",
       "    }\n",
       "\n",
       "    .dataframe thead th {\n",
       "        text-align: right;\n",
       "    }\n",
       "</style>\n",
       "<table border=\"1\" class=\"dataframe\">\n",
       "  <thead>\n",
       "    <tr style=\"text-align: right;\">\n",
       "      <th></th>\n",
       "      <th>open</th>\n",
       "      <th>high</th>\n",
       "      <th>low</th>\n",
       "      <th>close</th>\n",
       "      <th>date</th>\n",
       "    </tr>\n",
       "  </thead>\n",
       "  <tbody>\n",
       "    <tr>\n",
       "      <th>145</th>\n",
       "      <td>$168.70</td>\n",
       "      <td>171.8</td>\n",
       "      <td>137.9</td>\n",
       "      <td>$148.10</td>\n",
       "      <td>2009-01-02T00:00:00</td>\n",
       "    </tr>\n",
       "    <tr>\n",
       "      <th>146</th>\n",
       "      <td>$158.10</td>\n",
       "      <td>175.9</td>\n",
       "      <td>138.0</td>\n",
       "      <td>$147.00</td>\n",
       "      <td>2009-02-02T00:00:00</td>\n",
       "    </tr>\n",
       "    <tr>\n",
       "      <th>147</th>\n",
       "      <td>$144.60</td>\n",
       "      <td>179.8</td>\n",
       "      <td>138.0</td>\n",
       "      <td>$171.30</td>\n",
       "      <td>2009-03-02T00:00:00</td>\n",
       "    </tr>\n",
       "  </tbody>\n",
       "</table>\n",
       "</div>"
      ],
      "text/plain": [
       "        open   high    low    close                 date\n",
       "145  $168.70  171.8  137.9  $148.10  2009-01-02T00:00:00\n",
       "146  $158.10  175.9  138.0  $147.00  2009-02-02T00:00:00\n",
       "147  $144.60  179.8  138.0  $171.30  2009-03-02T00:00:00"
      ]
     },
     "execution_count": 10,
     "metadata": {},
     "output_type": "execute_result"
    }
   ],
   "source": [
    "df.sort_values(by='low').head(3)"
   ]
  },
  {
   "cell_type": "markdown",
   "id": "d9f5a5e6",
   "metadata": {},
   "source": [
    "The three months with lowest low prices are January, February and March 2009"
   ]
  },
  {
   "cell_type": "markdown",
   "id": "843b2f36",
   "metadata": {},
   "source": [
    "## What is the median \"high\" lumber price in our dataset?"
   ]
  },
  {
   "cell_type": "code",
   "execution_count": 11,
   "id": "62a3a0b9",
   "metadata": {},
   "outputs": [
    {
     "data": {
      "text/plain": [
       "329.65"
      ]
     },
     "execution_count": 11,
     "metadata": {},
     "output_type": "execute_result"
    }
   ],
   "source": [
    "df.high.median()"
   ]
  },
  {
   "cell_type": "markdown",
   "id": "8dcb415a",
   "metadata": {},
   "source": [
    "## What is the median \"low\" lumber price in our dataset?"
   ]
  },
  {
   "cell_type": "code",
   "execution_count": 12,
   "id": "f783e687",
   "metadata": {},
   "outputs": [
    {
     "data": {
      "text/plain": [
       "286.1"
      ]
     },
     "execution_count": 12,
     "metadata": {},
     "output_type": "execute_result"
    }
   ],
   "source": [
    "df.low.median()"
   ]
  },
  {
   "cell_type": "markdown",
   "id": "b2e6b0ea",
   "metadata": {},
   "source": [
    "## Plot the maximum \"high\" lumber price on an annual basis."
   ]
  },
  {
   "cell_type": "code",
   "execution_count": 13,
   "id": "78759a14",
   "metadata": {
    "scrolled": true
   },
   "outputs": [
    {
     "data": {
      "text/html": [
       "<div>\n",
       "<style scoped>\n",
       "    .dataframe tbody tr th:only-of-type {\n",
       "        vertical-align: middle;\n",
       "    }\n",
       "\n",
       "    .dataframe tbody tr th {\n",
       "        vertical-align: top;\n",
       "    }\n",
       "\n",
       "    .dataframe thead th {\n",
       "        text-align: right;\n",
       "    }\n",
       "</style>\n",
       "<table border=\"1\" class=\"dataframe\">\n",
       "  <thead>\n",
       "    <tr style=\"text-align: right;\">\n",
       "      <th></th>\n",
       "      <th>open</th>\n",
       "      <th>high</th>\n",
       "      <th>low</th>\n",
       "      <th>close</th>\n",
       "      <th>date</th>\n",
       "    </tr>\n",
       "  </thead>\n",
       "  <tbody>\n",
       "    <tr>\n",
       "      <th>0</th>\n",
       "      <td>$407.00</td>\n",
       "      <td>424.7</td>\n",
       "      <td>377.0</td>\n",
       "      <td>$424.70</td>\n",
       "      <td>1996-12-09T00:00:00</td>\n",
       "    </tr>\n",
       "    <tr>\n",
       "      <th>1</th>\n",
       "      <td>$426.00</td>\n",
       "      <td>450.5</td>\n",
       "      <td>395.0</td>\n",
       "      <td>$411.40</td>\n",
       "      <td>1997-01-02T00:00:00</td>\n",
       "    </tr>\n",
       "    <tr>\n",
       "      <th>2</th>\n",
       "      <td>$408.50</td>\n",
       "      <td>421.5</td>\n",
       "      <td>382.1</td>\n",
       "      <td>$383.50</td>\n",
       "      <td>1997-02-03T00:00:00</td>\n",
       "    </tr>\n",
       "    <tr>\n",
       "      <th>3</th>\n",
       "      <td>$386.00</td>\n",
       "      <td>389.7</td>\n",
       "      <td>355.0</td>\n",
       "      <td>$380.50</td>\n",
       "      <td>1997-03-03T00:00:00</td>\n",
       "    </tr>\n",
       "    <tr>\n",
       "      <th>4</th>\n",
       "      <td>$378.00</td>\n",
       "      <td>417.5</td>\n",
       "      <td>376.5</td>\n",
       "      <td>$403.10</td>\n",
       "      <td>1997-04-01T00:00:00</td>\n",
       "    </tr>\n",
       "  </tbody>\n",
       "</table>\n",
       "</div>"
      ],
      "text/plain": [
       "      open   high    low    close                 date\n",
       "0  $407.00  424.7  377.0  $424.70  1996-12-09T00:00:00\n",
       "1  $426.00  450.5  395.0  $411.40  1997-01-02T00:00:00\n",
       "2  $408.50  421.5  382.1  $383.50  1997-02-03T00:00:00\n",
       "3  $386.00  389.7  355.0  $380.50  1997-03-03T00:00:00\n",
       "4  $378.00  417.5  376.5  $403.10  1997-04-01T00:00:00"
      ]
     },
     "execution_count": 13,
     "metadata": {},
     "output_type": "execute_result"
    }
   ],
   "source": [
    "df.head()"
   ]
  },
  {
   "cell_type": "code",
   "execution_count": 14,
   "id": "83eaecd3",
   "metadata": {},
   "outputs": [],
   "source": [
    "df.date = df.date.str.replace(\"T00:00:00\", \"\")\n"
   ]
  },
  {
   "cell_type": "markdown",
   "id": "8e88bb10",
   "metadata": {},
   "source": [
    "I wasn't sure whether day-of-time or hour data would have mattered, but I removed it."
   ]
  },
  {
   "cell_type": "code",
   "execution_count": 15,
   "id": "384d1c85",
   "metadata": {},
   "outputs": [
    {
     "data": {
      "text/html": [
       "<div>\n",
       "<style scoped>\n",
       "    .dataframe tbody tr th:only-of-type {\n",
       "        vertical-align: middle;\n",
       "    }\n",
       "\n",
       "    .dataframe tbody tr th {\n",
       "        vertical-align: top;\n",
       "    }\n",
       "\n",
       "    .dataframe thead th {\n",
       "        text-align: right;\n",
       "    }\n",
       "</style>\n",
       "<table border=\"1\" class=\"dataframe\">\n",
       "  <thead>\n",
       "    <tr style=\"text-align: right;\">\n",
       "      <th></th>\n",
       "      <th>open</th>\n",
       "      <th>high</th>\n",
       "      <th>low</th>\n",
       "      <th>close</th>\n",
       "      <th>date</th>\n",
       "    </tr>\n",
       "  </thead>\n",
       "  <tbody>\n",
       "    <tr>\n",
       "      <th>0</th>\n",
       "      <td>$407.00</td>\n",
       "      <td>424.7</td>\n",
       "      <td>377.0</td>\n",
       "      <td>$424.70</td>\n",
       "      <td>1996-12-09</td>\n",
       "    </tr>\n",
       "    <tr>\n",
       "      <th>1</th>\n",
       "      <td>$426.00</td>\n",
       "      <td>450.5</td>\n",
       "      <td>395.0</td>\n",
       "      <td>$411.40</td>\n",
       "      <td>1997-01-02</td>\n",
       "    </tr>\n",
       "    <tr>\n",
       "      <th>2</th>\n",
       "      <td>$408.50</td>\n",
       "      <td>421.5</td>\n",
       "      <td>382.1</td>\n",
       "      <td>$383.50</td>\n",
       "      <td>1997-02-03</td>\n",
       "    </tr>\n",
       "    <tr>\n",
       "      <th>3</th>\n",
       "      <td>$386.00</td>\n",
       "      <td>389.7</td>\n",
       "      <td>355.0</td>\n",
       "      <td>$380.50</td>\n",
       "      <td>1997-03-03</td>\n",
       "    </tr>\n",
       "    <tr>\n",
       "      <th>4</th>\n",
       "      <td>$378.00</td>\n",
       "      <td>417.5</td>\n",
       "      <td>376.5</td>\n",
       "      <td>$403.10</td>\n",
       "      <td>1997-04-01</td>\n",
       "    </tr>\n",
       "  </tbody>\n",
       "</table>\n",
       "</div>"
      ],
      "text/plain": [
       "      open   high    low    close        date\n",
       "0  $407.00  424.7  377.0  $424.70  1996-12-09\n",
       "1  $426.00  450.5  395.0  $411.40  1997-01-02\n",
       "2  $408.50  421.5  382.1  $383.50  1997-02-03\n",
       "3  $386.00  389.7  355.0  $380.50  1997-03-03\n",
       "4  $378.00  417.5  376.5  $403.10  1997-04-01"
      ]
     },
     "execution_count": 15,
     "metadata": {},
     "output_type": "execute_result"
    }
   ],
   "source": [
    "df.head()"
   ]
  },
  {
   "cell_type": "code",
   "execution_count": 16,
   "id": "fd2c80ab",
   "metadata": {},
   "outputs": [],
   "source": [
    "df['year'] = pd.DatetimeIndex(df['date']).year"
   ]
  },
  {
   "cell_type": "markdown",
   "id": "42f1dfeb",
   "metadata": {},
   "source": [
    "Did some sleuthing and found that one can extract plain years from colums containing dates with DatatimeIndex(). So I added a column year and extracted years from dates into that column. "
   ]
  },
  {
   "cell_type": "code",
   "execution_count": 17,
   "id": "b52f2d4b",
   "metadata": {},
   "outputs": [
    {
     "data": {
      "text/html": [
       "<div>\n",
       "<style scoped>\n",
       "    .dataframe tbody tr th:only-of-type {\n",
       "        vertical-align: middle;\n",
       "    }\n",
       "\n",
       "    .dataframe tbody tr th {\n",
       "        vertical-align: top;\n",
       "    }\n",
       "\n",
       "    .dataframe thead th {\n",
       "        text-align: right;\n",
       "    }\n",
       "</style>\n",
       "<table border=\"1\" class=\"dataframe\">\n",
       "  <thead>\n",
       "    <tr style=\"text-align: right;\">\n",
       "      <th></th>\n",
       "      <th>open</th>\n",
       "      <th>high</th>\n",
       "      <th>low</th>\n",
       "      <th>close</th>\n",
       "      <th>date</th>\n",
       "      <th>year</th>\n",
       "    </tr>\n",
       "  </thead>\n",
       "  <tbody>\n",
       "    <tr>\n",
       "      <th>0</th>\n",
       "      <td>$407.00</td>\n",
       "      <td>424.7</td>\n",
       "      <td>377.0</td>\n",
       "      <td>$424.70</td>\n",
       "      <td>1996-12-09</td>\n",
       "      <td>1996</td>\n",
       "    </tr>\n",
       "    <tr>\n",
       "      <th>1</th>\n",
       "      <td>$426.00</td>\n",
       "      <td>450.5</td>\n",
       "      <td>395.0</td>\n",
       "      <td>$411.40</td>\n",
       "      <td>1997-01-02</td>\n",
       "      <td>1997</td>\n",
       "    </tr>\n",
       "    <tr>\n",
       "      <th>2</th>\n",
       "      <td>$408.50</td>\n",
       "      <td>421.5</td>\n",
       "      <td>382.1</td>\n",
       "      <td>$383.50</td>\n",
       "      <td>1997-02-03</td>\n",
       "      <td>1997</td>\n",
       "    </tr>\n",
       "    <tr>\n",
       "      <th>3</th>\n",
       "      <td>$386.00</td>\n",
       "      <td>389.7</td>\n",
       "      <td>355.0</td>\n",
       "      <td>$380.50</td>\n",
       "      <td>1997-03-03</td>\n",
       "      <td>1997</td>\n",
       "    </tr>\n",
       "    <tr>\n",
       "      <th>4</th>\n",
       "      <td>$378.00</td>\n",
       "      <td>417.5</td>\n",
       "      <td>376.5</td>\n",
       "      <td>$403.10</td>\n",
       "      <td>1997-04-01</td>\n",
       "      <td>1997</td>\n",
       "    </tr>\n",
       "  </tbody>\n",
       "</table>\n",
       "</div>"
      ],
      "text/plain": [
       "      open   high    low    close        date  year\n",
       "0  $407.00  424.7  377.0  $424.70  1996-12-09  1996\n",
       "1  $426.00  450.5  395.0  $411.40  1997-01-02  1997\n",
       "2  $408.50  421.5  382.1  $383.50  1997-02-03  1997\n",
       "3  $386.00  389.7  355.0  $380.50  1997-03-03  1997\n",
       "4  $378.00  417.5  376.5  $403.10  1997-04-01  1997"
      ]
     },
     "execution_count": 17,
     "metadata": {},
     "output_type": "execute_result"
    }
   ],
   "source": [
    "df.head()"
   ]
  },
  {
   "cell_type": "markdown",
   "id": "0158dede",
   "metadata": {},
   "source": [
    "Then I grouped by 'year', asked the max figure in 'high' column and plotted."
   ]
  },
  {
   "cell_type": "code",
   "execution_count": 18,
   "id": "0f4804f0",
   "metadata": {},
   "outputs": [
    {
     "data": {
      "text/plain": [
       "<AxesSubplot: xlabel='year'>"
      ]
     },
     "execution_count": 18,
     "metadata": {},
     "output_type": "execute_result"
    },
    {
     "data": {
      "image/png": "[encoded data removed]",
      "text/plain": [
       "<Figure size 640x480 with 1 Axes>"
      ]
     },
     "metadata": {},
     "output_type": "display_data"
    }
   ],
   "source": [
    "df.groupby('year').high.max().plot()"
   ]
  },
  {
   "cell_type": "markdown",
   "id": "898b6df0",
   "metadata": {},
   "source": [
    "## Plot the lowest \"low\" lumber price on an annual basis."
   ]
  },
  {
   "cell_type": "code",
   "execution_count": 19,
   "id": "007ed835",
   "metadata": {},
   "outputs": [
    {
     "data": {
      "text/plain": [
       "<AxesSubplot: xlabel='year'>"
      ]
     },
     "execution_count": 19,
     "metadata": {},
     "output_type": "execute_result"
    },
    {
     "data": {
      "image/png": "[encoded data removed]",
      "text/plain": [
       "<Figure size 640x480 with 1 Axes>"
      ]
     },
     "metadata": {},
     "output_type": "display_data"
    }
   ],
   "source": [
    "df.groupby('year').low.min().plot()"
   ]
  },
  {
   "cell_type": "markdown",
   "id": "328bdae6",
   "metadata": {},
   "source": [
    "## Plot the median \"close\" lumber price on an quarterly basis."
   ]
  },
  {
   "cell_type": "code",
   "execution_count": 20,
   "id": "e23ff6ca",
   "metadata": {},
   "outputs": [],
   "source": [
    "df['quarter'] = pd.PeriodIndex(df.date, freq='Q')"
   ]
  },
  {
   "cell_type": "code",
   "execution_count": 21,
   "id": "be6c6fed",
   "metadata": {},
   "outputs": [
    {
     "name": "stderr",
     "output_type": "stream",
     "text": [
      "C:\\Users\\Juhana\\AppData\\Local\\Temp\\ipykernel_13124\\1129911477.py:1: FutureWarning: The default value of regex will change from True to False in a future version. In addition, single character regular expressions will *not* be treated as literal strings when regex=True.\n",
      "  df.close = df.close.str.replace(\"$\", \"\")\n"
     ]
    }
   ],
   "source": [
    "df.close = df.close.str.replace(\"$\", \"\")\n",
    "df.close = df.close.astype(float)"
   ]
  },
  {
   "cell_type": "code",
   "execution_count": 22,
   "id": "8d5a60ed",
   "metadata": {},
   "outputs": [
    {
     "data": {
      "text/plain": [
       "<AxesSubplot: xlabel='quarter'>"
      ]
     },
     "execution_count": 22,
     "metadata": {},
     "output_type": "execute_result"
    },
    {
     "data": {
      "image/png": "[encoded data removed]",
      "text/plain": [
       "<Figure size 640x480 with 1 Axes>"
      ]
     },
     "metadata": {},
     "output_type": "display_data"
    }
   ],
   "source": [
    "df.groupby('quarter').close.median().plot()"
   ]
  },
  {
   "cell_type": "markdown",
   "id": "a507d8a6",
   "metadata": {},
   "source": [
    "## What month in our dataset had the largest swing between high and low?\n",
    "\n",
    "You'll want to create a new column for this one"
   ]
  },
  {
   "cell_type": "code",
   "execution_count": 23,
   "id": "4178d51c",
   "metadata": {},
   "outputs": [],
   "source": [
    "df['price_difference'] = df['high'] - df['low']"
   ]
  },
  {
   "cell_type": "code",
   "execution_count": 24,
   "id": "42d3445c",
   "metadata": {},
   "outputs": [
    {
     "data": {
      "text/html": [
       "<div>\n",
       "<style scoped>\n",
       "    .dataframe tbody tr th:only-of-type {\n",
       "        vertical-align: middle;\n",
       "    }\n",
       "\n",
       "    .dataframe tbody tr th {\n",
       "        vertical-align: top;\n",
       "    }\n",
       "\n",
       "    .dataframe thead th {\n",
       "        text-align: right;\n",
       "    }\n",
       "</style>\n",
       "<table border=\"1\" class=\"dataframe\">\n",
       "  <thead>\n",
       "    <tr style=\"text-align: right;\">\n",
       "      <th></th>\n",
       "      <th>open</th>\n",
       "      <th>high</th>\n",
       "      <th>low</th>\n",
       "      <th>close</th>\n",
       "      <th>date</th>\n",
       "      <th>year</th>\n",
       "      <th>quarter</th>\n",
       "      <th>price_difference</th>\n",
       "    </tr>\n",
       "  </thead>\n",
       "  <tbody>\n",
       "    <tr>\n",
       "      <th>0</th>\n",
       "      <td>$407.00</td>\n",
       "      <td>424.7</td>\n",
       "      <td>377.0</td>\n",
       "      <td>424.7</td>\n",
       "      <td>1996-12-09</td>\n",
       "      <td>1996</td>\n",
       "      <td>1996Q4</td>\n",
       "      <td>47.7</td>\n",
       "    </tr>\n",
       "    <tr>\n",
       "      <th>1</th>\n",
       "      <td>$426.00</td>\n",
       "      <td>450.5</td>\n",
       "      <td>395.0</td>\n",
       "      <td>411.4</td>\n",
       "      <td>1997-01-02</td>\n",
       "      <td>1997</td>\n",
       "      <td>1997Q1</td>\n",
       "      <td>55.5</td>\n",
       "    </tr>\n",
       "    <tr>\n",
       "      <th>2</th>\n",
       "      <td>$408.50</td>\n",
       "      <td>421.5</td>\n",
       "      <td>382.1</td>\n",
       "      <td>383.5</td>\n",
       "      <td>1997-02-03</td>\n",
       "      <td>1997</td>\n",
       "      <td>1997Q1</td>\n",
       "      <td>39.4</td>\n",
       "    </tr>\n",
       "    <tr>\n",
       "      <th>3</th>\n",
       "      <td>$386.00</td>\n",
       "      <td>389.7</td>\n",
       "      <td>355.0</td>\n",
       "      <td>380.5</td>\n",
       "      <td>1997-03-03</td>\n",
       "      <td>1997</td>\n",
       "      <td>1997Q1</td>\n",
       "      <td>34.7</td>\n",
       "    </tr>\n",
       "    <tr>\n",
       "      <th>4</th>\n",
       "      <td>$378.00</td>\n",
       "      <td>417.5</td>\n",
       "      <td>376.5</td>\n",
       "      <td>403.1</td>\n",
       "      <td>1997-04-01</td>\n",
       "      <td>1997</td>\n",
       "      <td>1997Q2</td>\n",
       "      <td>41.0</td>\n",
       "    </tr>\n",
       "  </tbody>\n",
       "</table>\n",
       "</div>"
      ],
      "text/plain": [
       "      open   high    low  close        date  year quarter  price_difference\n",
       "0  $407.00  424.7  377.0  424.7  1996-12-09  1996  1996Q4              47.7\n",
       "1  $426.00  450.5  395.0  411.4  1997-01-02  1997  1997Q1              55.5\n",
       "2  $408.50  421.5  382.1  383.5  1997-02-03  1997  1997Q1              39.4\n",
       "3  $386.00  389.7  355.0  380.5  1997-03-03  1997  1997Q1              34.7\n",
       "4  $378.00  417.5  376.5  403.1  1997-04-01  1997  1997Q2              41.0"
      ]
     },
     "execution_count": 24,
     "metadata": {},
     "output_type": "execute_result"
    }
   ],
   "source": [
    "df.head()"
   ]
  },
  {
   "cell_type": "code",
   "execution_count": 25,
   "id": "832f0e80",
   "metadata": {},
   "outputs": [
    {
     "data": {
      "text/html": [
       "<div>\n",
       "<style scoped>\n",
       "    .dataframe tbody tr th:only-of-type {\n",
       "        vertical-align: middle;\n",
       "    }\n",
       "\n",
       "    .dataframe tbody tr th {\n",
       "        vertical-align: top;\n",
       "    }\n",
       "\n",
       "    .dataframe thead th {\n",
       "        text-align: right;\n",
       "    }\n",
       "</style>\n",
       "<table border=\"1\" class=\"dataframe\">\n",
       "  <thead>\n",
       "    <tr style=\"text-align: right;\">\n",
       "      <th></th>\n",
       "      <th>open</th>\n",
       "      <th>high</th>\n",
       "      <th>low</th>\n",
       "      <th>close</th>\n",
       "      <th>date</th>\n",
       "      <th>year</th>\n",
       "      <th>quarter</th>\n",
       "      <th>price_difference</th>\n",
       "    </tr>\n",
       "  </thead>\n",
       "  <tbody>\n",
       "    <tr>\n",
       "      <th>294</th>\n",
       "      <td>$1315.00</td>\n",
       "      <td>1380.0</td>\n",
       "      <td>705.0</td>\n",
       "      <td>716.0</td>\n",
       "      <td>2021-06-01</td>\n",
       "      <td>2021</td>\n",
       "      <td>2021Q2</td>\n",
       "      <td>675.0</td>\n",
       "    </tr>\n",
       "  </tbody>\n",
       "</table>\n",
       "</div>"
      ],
      "text/plain": [
       "         open    high    low  close        date  year quarter  \\\n",
       "294  $1315.00  1380.0  705.0  716.0  2021-06-01  2021  2021Q2   \n",
       "\n",
       "     price_difference  \n",
       "294             675.0  "
      ]
     },
     "execution_count": 25,
     "metadata": {},
     "output_type": "execute_result"
    }
   ],
   "source": [
    "df.sort_values(by='price_difference', ascending=False).head(1)"
   ]
  },
  {
   "cell_type": "markdown",
   "id": "f99398a5",
   "metadata": {},
   "source": [
    "The biggest difference between high and low prices within a month was in June 2021."
   ]
  },
  {
   "cell_type": "markdown",
   "id": "dd08822c",
   "metadata": {},
   "source": [
    "## In how many months did lumber prices rise?\n",
    "\n",
    "If the price was greater at the end of the month than the beginning of the month, we'll say the price rose."
   ]
  },
  {
   "cell_type": "code",
   "execution_count": 26,
   "id": "e6549397",
   "metadata": {},
   "outputs": [
    {
     "name": "stderr",
     "output_type": "stream",
     "text": [
      "C:\\Users\\Juhana\\AppData\\Local\\Temp\\ipykernel_13124\\3134079093.py:1: FutureWarning: The default value of regex will change from True to False in a future version. In addition, single character regular expressions will *not* be treated as literal strings when regex=True.\n",
      "  df.open = df.open.str.replace(\"$\", \"\")\n"
     ]
    }
   ],
   "source": [
    "df.open = df.open.str.replace(\"$\", \"\")\n",
    "df.open = df.open.astype(float)"
   ]
  },
  {
   "cell_type": "code",
   "execution_count": 27,
   "id": "696becea",
   "metadata": {},
   "outputs": [
    {
     "data": {
      "text/html": [
       "<div>\n",
       "<style scoped>\n",
       "    .dataframe tbody tr th:only-of-type {\n",
       "        vertical-align: middle;\n",
       "    }\n",
       "\n",
       "    .dataframe tbody tr th {\n",
       "        vertical-align: top;\n",
       "    }\n",
       "\n",
       "    .dataframe thead th {\n",
       "        text-align: right;\n",
       "    }\n",
       "</style>\n",
       "<table border=\"1\" class=\"dataframe\">\n",
       "  <thead>\n",
       "    <tr style=\"text-align: right;\">\n",
       "      <th></th>\n",
       "      <th>open</th>\n",
       "      <th>high</th>\n",
       "      <th>low</th>\n",
       "      <th>close</th>\n",
       "      <th>date</th>\n",
       "      <th>year</th>\n",
       "      <th>quarter</th>\n",
       "      <th>price_difference</th>\n",
       "    </tr>\n",
       "  </thead>\n",
       "  <tbody>\n",
       "    <tr>\n",
       "      <th>0</th>\n",
       "      <td>407.0</td>\n",
       "      <td>424.7</td>\n",
       "      <td>377.0</td>\n",
       "      <td>424.7</td>\n",
       "      <td>1996-12-09</td>\n",
       "      <td>1996</td>\n",
       "      <td>1996Q4</td>\n",
       "      <td>47.7</td>\n",
       "    </tr>\n",
       "    <tr>\n",
       "      <th>1</th>\n",
       "      <td>426.0</td>\n",
       "      <td>450.5</td>\n",
       "      <td>395.0</td>\n",
       "      <td>411.4</td>\n",
       "      <td>1997-01-02</td>\n",
       "      <td>1997</td>\n",
       "      <td>1997Q1</td>\n",
       "      <td>55.5</td>\n",
       "    </tr>\n",
       "    <tr>\n",
       "      <th>2</th>\n",
       "      <td>408.5</td>\n",
       "      <td>421.5</td>\n",
       "      <td>382.1</td>\n",
       "      <td>383.5</td>\n",
       "      <td>1997-02-03</td>\n",
       "      <td>1997</td>\n",
       "      <td>1997Q1</td>\n",
       "      <td>39.4</td>\n",
       "    </tr>\n",
       "    <tr>\n",
       "      <th>3</th>\n",
       "      <td>386.0</td>\n",
       "      <td>389.7</td>\n",
       "      <td>355.0</td>\n",
       "      <td>380.5</td>\n",
       "      <td>1997-03-03</td>\n",
       "      <td>1997</td>\n",
       "      <td>1997Q1</td>\n",
       "      <td>34.7</td>\n",
       "    </tr>\n",
       "    <tr>\n",
       "      <th>4</th>\n",
       "      <td>378.0</td>\n",
       "      <td>417.5</td>\n",
       "      <td>376.5</td>\n",
       "      <td>403.1</td>\n",
       "      <td>1997-04-01</td>\n",
       "      <td>1997</td>\n",
       "      <td>1997Q2</td>\n",
       "      <td>41.0</td>\n",
       "    </tr>\n",
       "  </tbody>\n",
       "</table>\n",
       "</div>"
      ],
      "text/plain": [
       "    open   high    low  close        date  year quarter  price_difference\n",
       "0  407.0  424.7  377.0  424.7  1996-12-09  1996  1996Q4              47.7\n",
       "1  426.0  450.5  395.0  411.4  1997-01-02  1997  1997Q1              55.5\n",
       "2  408.5  421.5  382.1  383.5  1997-02-03  1997  1997Q1              39.4\n",
       "3  386.0  389.7  355.0  380.5  1997-03-03  1997  1997Q1              34.7\n",
       "4  378.0  417.5  376.5  403.1  1997-04-01  1997  1997Q2              41.0"
      ]
     },
     "execution_count": 27,
     "metadata": {},
     "output_type": "execute_result"
    }
   ],
   "source": [
    "df.head()"
   ]
  },
  {
   "cell_type": "code",
   "execution_count": 28,
   "id": "0d1ae8ba",
   "metadata": {},
   "outputs": [
    {
     "data": {
      "text/plain": [
       "0       True\n",
       "1      False\n",
       "2      False\n",
       "3      False\n",
       "4       True\n",
       "       ...  \n",
       "295    False\n",
       "296    False\n",
       "297     True\n",
       "298    False\n",
       "299     True\n",
       "Length: 300, dtype: bool"
      ]
     },
     "execution_count": 28,
     "metadata": {},
     "output_type": "execute_result"
    }
   ],
   "source": [
    "df['close'] > df['open']"
   ]
  },
  {
   "cell_type": "code",
   "execution_count": 29,
   "id": "a6fa1256",
   "metadata": {},
   "outputs": [
    {
     "data": {
      "text/html": [
       "<div>\n",
       "<style scoped>\n",
       "    .dataframe tbody tr th:only-of-type {\n",
       "        vertical-align: middle;\n",
       "    }\n",
       "\n",
       "    .dataframe tbody tr th {\n",
       "        vertical-align: top;\n",
       "    }\n",
       "\n",
       "    .dataframe thead th {\n",
       "        text-align: right;\n",
       "    }\n",
       "</style>\n",
       "<table border=\"1\" class=\"dataframe\">\n",
       "  <thead>\n",
       "    <tr style=\"text-align: right;\">\n",
       "      <th></th>\n",
       "      <th>open</th>\n",
       "      <th>high</th>\n",
       "      <th>low</th>\n",
       "      <th>close</th>\n",
       "      <th>date</th>\n",
       "      <th>year</th>\n",
       "      <th>quarter</th>\n",
       "      <th>price_difference</th>\n",
       "    </tr>\n",
       "  </thead>\n",
       "  <tbody>\n",
       "    <tr>\n",
       "      <th>0</th>\n",
       "      <td>407.0</td>\n",
       "      <td>424.7</td>\n",
       "      <td>377.0</td>\n",
       "      <td>424.7</td>\n",
       "      <td>1996-12-09</td>\n",
       "      <td>1996</td>\n",
       "      <td>1996Q4</td>\n",
       "      <td>47.7</td>\n",
       "    </tr>\n",
       "    <tr>\n",
       "      <th>4</th>\n",
       "      <td>378.0</td>\n",
       "      <td>417.5</td>\n",
       "      <td>376.5</td>\n",
       "      <td>403.1</td>\n",
       "      <td>1997-04-01</td>\n",
       "      <td>1997</td>\n",
       "      <td>1997Q2</td>\n",
       "      <td>41.0</td>\n",
       "    </tr>\n",
       "    <tr>\n",
       "      <th>8</th>\n",
       "      <td>342.0</td>\n",
       "      <td>365.9</td>\n",
       "      <td>341.1</td>\n",
       "      <td>356.7</td>\n",
       "      <td>1997-08-01</td>\n",
       "      <td>1997</td>\n",
       "      <td>1997Q3</td>\n",
       "      <td>24.8</td>\n",
       "    </tr>\n",
       "    <tr>\n",
       "      <th>10</th>\n",
       "      <td>296.0</td>\n",
       "      <td>328.4</td>\n",
       "      <td>295.0</td>\n",
       "      <td>296.3</td>\n",
       "      <td>1997-10-01</td>\n",
       "      <td>1997</td>\n",
       "      <td>1997Q4</td>\n",
       "      <td>33.4</td>\n",
       "    </tr>\n",
       "    <tr>\n",
       "      <th>11</th>\n",
       "      <td>299.0</td>\n",
       "      <td>330.0</td>\n",
       "      <td>291.0</td>\n",
       "      <td>325.0</td>\n",
       "      <td>1997-11-03</td>\n",
       "      <td>1997</td>\n",
       "      <td>1997Q4</td>\n",
       "      <td>39.0</td>\n",
       "    </tr>\n",
       "    <tr>\n",
       "      <th>...</th>\n",
       "      <td>...</td>\n",
       "      <td>...</td>\n",
       "      <td>...</td>\n",
       "      <td>...</td>\n",
       "      <td>...</td>\n",
       "      <td>...</td>\n",
       "      <td>...</td>\n",
       "      <td>...</td>\n",
       "    </tr>\n",
       "    <tr>\n",
       "      <th>290</th>\n",
       "      <td>887.0</td>\n",
       "      <td>1030.4</td>\n",
       "      <td>842.9</td>\n",
       "      <td>995.6</td>\n",
       "      <td>2021-02-01</td>\n",
       "      <td>2021</td>\n",
       "      <td>2021Q1</td>\n",
       "      <td>187.5</td>\n",
       "    </tr>\n",
       "    <tr>\n",
       "      <th>291</th>\n",
       "      <td>1000.0</td>\n",
       "      <td>1045.0</td>\n",
       "      <td>826.3</td>\n",
       "      <td>1009.1</td>\n",
       "      <td>2021-03-01</td>\n",
       "      <td>2021</td>\n",
       "      <td>2021Q1</td>\n",
       "      <td>218.7</td>\n",
       "    </tr>\n",
       "    <tr>\n",
       "      <th>292</th>\n",
       "      <td>1012.6</td>\n",
       "      <td>1502.3</td>\n",
       "      <td>1006.0</td>\n",
       "      <td>1500.5</td>\n",
       "      <td>2021-04-01</td>\n",
       "      <td>2021</td>\n",
       "      <td>2021Q2</td>\n",
       "      <td>496.3</td>\n",
       "    </tr>\n",
       "    <tr>\n",
       "      <th>297</th>\n",
       "      <td>482.1</td>\n",
       "      <td>659.7</td>\n",
       "      <td>454.4</td>\n",
       "      <td>627.5</td>\n",
       "      <td>2021-09-01</td>\n",
       "      <td>2021</td>\n",
       "      <td>2021Q3</td>\n",
       "      <td>205.3</td>\n",
       "    </tr>\n",
       "    <tr>\n",
       "      <th>299</th>\n",
       "      <td>595.2</td>\n",
       "      <td>831.8</td>\n",
       "      <td>530.1</td>\n",
       "      <td>824.5</td>\n",
       "      <td>2021-11-01</td>\n",
       "      <td>2021</td>\n",
       "      <td>2021Q4</td>\n",
       "      <td>301.7</td>\n",
       "    </tr>\n",
       "  </tbody>\n",
       "</table>\n",
       "<p>145 rows × 8 columns</p>\n",
       "</div>"
      ],
      "text/plain": [
       "       open    high     low   close        date  year quarter  \\\n",
       "0     407.0   424.7   377.0   424.7  1996-12-09  1996  1996Q4   \n",
       "4     378.0   417.5   376.5   403.1  1997-04-01  1997  1997Q2   \n",
       "8     342.0   365.9   341.1   356.7  1997-08-01  1997  1997Q3   \n",
       "10    296.0   328.4   295.0   296.3  1997-10-01  1997  1997Q4   \n",
       "11    299.0   330.0   291.0   325.0  1997-11-03  1997  1997Q4   \n",
       "..      ...     ...     ...     ...         ...   ...     ...   \n",
       "290   887.0  1030.4   842.9   995.6  2021-02-01  2021  2021Q1   \n",
       "291  1000.0  1045.0   826.3  1009.1  2021-03-01  2021  2021Q1   \n",
       "292  1012.6  1502.3  1006.0  1500.5  2021-04-01  2021  2021Q2   \n",
       "297   482.1   659.7   454.4   627.5  2021-09-01  2021  2021Q3   \n",
       "299   595.2   831.8   530.1   824.5  2021-11-01  2021  2021Q4   \n",
       "\n",
       "     price_difference  \n",
       "0                47.7  \n",
       "4                41.0  \n",
       "8                24.8  \n",
       "10               33.4  \n",
       "11               39.0  \n",
       "..                ...  \n",
       "290             187.5  \n",
       "291             218.7  \n",
       "292             496.3  \n",
       "297             205.3  \n",
       "299             301.7  \n",
       "\n",
       "[145 rows x 8 columns]"
      ]
     },
     "execution_count": 29,
     "metadata": {},
     "output_type": "execute_result"
    }
   ],
   "source": [
    "df[df['close'] > df['open']]"
   ]
  },
  {
   "cell_type": "markdown",
   "id": "28594336",
   "metadata": {},
   "source": [
    "## How many months did lumber prices drop?\n",
    "\n",
    "If the price was lower at the end of the month than the beginning of the month, we'll say the price dropped."
   ]
  },
  {
   "cell_type": "code",
   "execution_count": 30,
   "id": "d94f1cfc",
   "metadata": {},
   "outputs": [
    {
     "data": {
      "text/plain": [
       "True     155\n",
       "False    145\n",
       "dtype: int64"
      ]
     },
     "execution_count": 30,
     "metadata": {},
     "output_type": "execute_result"
    }
   ],
   "source": [
    "(df['close'] < df['open']).value_counts()"
   ]
  },
  {
   "cell_type": "code",
   "execution_count": 31,
   "id": "86e80667",
   "metadata": {},
   "outputs": [
    {
     "data": {
      "text/html": [
       "<div>\n",
       "<style scoped>\n",
       "    .dataframe tbody tr th:only-of-type {\n",
       "        vertical-align: middle;\n",
       "    }\n",
       "\n",
       "    .dataframe tbody tr th {\n",
       "        vertical-align: top;\n",
       "    }\n",
       "\n",
       "    .dataframe thead th {\n",
       "        text-align: right;\n",
       "    }\n",
       "</style>\n",
       "<table border=\"1\" class=\"dataframe\">\n",
       "  <thead>\n",
       "    <tr style=\"text-align: right;\">\n",
       "      <th></th>\n",
       "      <th>open</th>\n",
       "      <th>high</th>\n",
       "      <th>low</th>\n",
       "      <th>close</th>\n",
       "      <th>date</th>\n",
       "      <th>year</th>\n",
       "      <th>quarter</th>\n",
       "      <th>price_difference</th>\n",
       "    </tr>\n",
       "  </thead>\n",
       "  <tbody>\n",
       "    <tr>\n",
       "      <th>1</th>\n",
       "      <td>426.0</td>\n",
       "      <td>450.5</td>\n",
       "      <td>395.0</td>\n",
       "      <td>411.4</td>\n",
       "      <td>1997-01-02</td>\n",
       "      <td>1997</td>\n",
       "      <td>1997Q1</td>\n",
       "      <td>55.5</td>\n",
       "    </tr>\n",
       "    <tr>\n",
       "      <th>2</th>\n",
       "      <td>408.5</td>\n",
       "      <td>421.5</td>\n",
       "      <td>382.1</td>\n",
       "      <td>383.5</td>\n",
       "      <td>1997-02-03</td>\n",
       "      <td>1997</td>\n",
       "      <td>1997Q1</td>\n",
       "      <td>39.4</td>\n",
       "    </tr>\n",
       "    <tr>\n",
       "      <th>3</th>\n",
       "      <td>386.0</td>\n",
       "      <td>389.7</td>\n",
       "      <td>355.0</td>\n",
       "      <td>380.5</td>\n",
       "      <td>1997-03-03</td>\n",
       "      <td>1997</td>\n",
       "      <td>1997Q1</td>\n",
       "      <td>34.7</td>\n",
       "    </tr>\n",
       "    <tr>\n",
       "      <th>5</th>\n",
       "      <td>401.9</td>\n",
       "      <td>404.4</td>\n",
       "      <td>370.1</td>\n",
       "      <td>380.5</td>\n",
       "      <td>1997-05-01</td>\n",
       "      <td>1997</td>\n",
       "      <td>1997Q2</td>\n",
       "      <td>34.3</td>\n",
       "    </tr>\n",
       "    <tr>\n",
       "      <th>6</th>\n",
       "      <td>387.5</td>\n",
       "      <td>393.1</td>\n",
       "      <td>347.1</td>\n",
       "      <td>378.0</td>\n",
       "      <td>1997-06-02</td>\n",
       "      <td>1997</td>\n",
       "      <td>1997Q2</td>\n",
       "      <td>46.0</td>\n",
       "    </tr>\n",
       "    <tr>\n",
       "      <th>...</th>\n",
       "      <td>...</td>\n",
       "      <td>...</td>\n",
       "      <td>...</td>\n",
       "      <td>...</td>\n",
       "      <td>...</td>\n",
       "      <td>...</td>\n",
       "      <td>...</td>\n",
       "      <td>...</td>\n",
       "    </tr>\n",
       "    <tr>\n",
       "      <th>293</th>\n",
       "      <td>1520.6</td>\n",
       "      <td>1711.2</td>\n",
       "      <td>1201.0</td>\n",
       "      <td>1309.5</td>\n",
       "      <td>2021-05-03</td>\n",
       "      <td>2021</td>\n",
       "      <td>2021Q2</td>\n",
       "      <td>510.2</td>\n",
       "    </tr>\n",
       "    <tr>\n",
       "      <th>294</th>\n",
       "      <td>1315.0</td>\n",
       "      <td>1380.0</td>\n",
       "      <td>705.0</td>\n",
       "      <td>716.0</td>\n",
       "      <td>2021-06-01</td>\n",
       "      <td>2021</td>\n",
       "      <td>2021Q2</td>\n",
       "      <td>675.0</td>\n",
       "    </tr>\n",
       "    <tr>\n",
       "      <th>295</th>\n",
       "      <td>716.0</td>\n",
       "      <td>825.6</td>\n",
       "      <td>490.0</td>\n",
       "      <td>621.2</td>\n",
       "      <td>2021-07-01</td>\n",
       "      <td>2021</td>\n",
       "      <td>2021Q3</td>\n",
       "      <td>335.6</td>\n",
       "    </tr>\n",
       "    <tr>\n",
       "      <th>296</th>\n",
       "      <td>623.1</td>\n",
       "      <td>650.0</td>\n",
       "      <td>448.0</td>\n",
       "      <td>482.8</td>\n",
       "      <td>2021-08-02</td>\n",
       "      <td>2021</td>\n",
       "      <td>2021Q3</td>\n",
       "      <td>202.0</td>\n",
       "    </tr>\n",
       "    <tr>\n",
       "      <th>298</th>\n",
       "      <td>637.1</td>\n",
       "      <td>789.6</td>\n",
       "      <td>588.5</td>\n",
       "      <td>591.6</td>\n",
       "      <td>2021-10-01</td>\n",
       "      <td>2021</td>\n",
       "      <td>2021Q4</td>\n",
       "      <td>201.1</td>\n",
       "    </tr>\n",
       "  </tbody>\n",
       "</table>\n",
       "<p>155 rows × 8 columns</p>\n",
       "</div>"
      ],
      "text/plain": [
       "       open    high     low   close        date  year quarter  \\\n",
       "1     426.0   450.5   395.0   411.4  1997-01-02  1997  1997Q1   \n",
       "2     408.5   421.5   382.1   383.5  1997-02-03  1997  1997Q1   \n",
       "3     386.0   389.7   355.0   380.5  1997-03-03  1997  1997Q1   \n",
       "5     401.9   404.4   370.1   380.5  1997-05-01  1997  1997Q2   \n",
       "6     387.5   393.1   347.1   378.0  1997-06-02  1997  1997Q2   \n",
       "..      ...     ...     ...     ...         ...   ...     ...   \n",
       "293  1520.6  1711.2  1201.0  1309.5  2021-05-03  2021  2021Q2   \n",
       "294  1315.0  1380.0   705.0   716.0  2021-06-01  2021  2021Q2   \n",
       "295   716.0   825.6   490.0   621.2  2021-07-01  2021  2021Q3   \n",
       "296   623.1   650.0   448.0   482.8  2021-08-02  2021  2021Q3   \n",
       "298   637.1   789.6   588.5   591.6  2021-10-01  2021  2021Q4   \n",
       "\n",
       "     price_difference  \n",
       "1                55.5  \n",
       "2                39.4  \n",
       "3                34.7  \n",
       "5                34.3  \n",
       "6                46.0  \n",
       "..                ...  \n",
       "293             510.2  \n",
       "294             675.0  \n",
       "295             335.6  \n",
       "296             202.0  \n",
       "298             201.1  \n",
       "\n",
       "[155 rows x 8 columns]"
      ]
     },
     "execution_count": 31,
     "metadata": {},
     "output_type": "execute_result"
    }
   ],
   "source": [
    "df[df['close'] < df['open']]"
   ]
  },
  {
   "cell_type": "markdown",
   "id": "3c8b4471",
   "metadata": {},
   "source": [
    "## In 2020, how many months saw lumber prices rise vs lumber prices fall?"
   ]
  },
  {
   "cell_type": "code",
   "execution_count": 84,
   "id": "22afd8cf",
   "metadata": {},
   "outputs": [
    {
     "data": {
      "text/html": [
       "<div>\n",
       "<style scoped>\n",
       "    .dataframe tbody tr th:only-of-type {\n",
       "        vertical-align: middle;\n",
       "    }\n",
       "\n",
       "    .dataframe tbody tr th {\n",
       "        vertical-align: top;\n",
       "    }\n",
       "\n",
       "    .dataframe thead th {\n",
       "        text-align: right;\n",
       "    }\n",
       "</style>\n",
       "<table border=\"1\" class=\"dataframe\">\n",
       "  <thead>\n",
       "    <tr style=\"text-align: right;\">\n",
       "      <th></th>\n",
       "      <th>open</th>\n",
       "      <th>high</th>\n",
       "      <th>low</th>\n",
       "      <th>close</th>\n",
       "      <th>date</th>\n",
       "      <th>year</th>\n",
       "      <th>quarter</th>\n",
       "      <th>price_difference</th>\n",
       "    </tr>\n",
       "  </thead>\n",
       "  <tbody>\n",
       "    <tr>\n",
       "      <th>277</th>\n",
       "      <td>404.0</td>\n",
       "      <td>444.4</td>\n",
       "      <td>387.3</td>\n",
       "      <td>435.5</td>\n",
       "      <td>2020-01-02</td>\n",
       "      <td>2020</td>\n",
       "      <td>2020Q1</td>\n",
       "      <td>57.1</td>\n",
       "    </tr>\n",
       "    <tr>\n",
       "      <th>280</th>\n",
       "      <td>271.1</td>\n",
       "      <td>344.7</td>\n",
       "      <td>251.5</td>\n",
       "      <td>319.7</td>\n",
       "      <td>2020-04-01</td>\n",
       "      <td>2020</td>\n",
       "      <td>2020Q2</td>\n",
       "      <td>93.2</td>\n",
       "    </tr>\n",
       "    <tr>\n",
       "      <th>281</th>\n",
       "      <td>320.0</td>\n",
       "      <td>378.5</td>\n",
       "      <td>320.0</td>\n",
       "      <td>367.1</td>\n",
       "      <td>2020-05-01</td>\n",
       "      <td>2020</td>\n",
       "      <td>2020Q2</td>\n",
       "      <td>58.5</td>\n",
       "    </tr>\n",
       "    <tr>\n",
       "      <th>282</th>\n",
       "      <td>362.3</td>\n",
       "      <td>447.7</td>\n",
       "      <td>346.3</td>\n",
       "      <td>435.7</td>\n",
       "      <td>2020-06-01</td>\n",
       "      <td>2020</td>\n",
       "      <td>2020Q2</td>\n",
       "      <td>101.4</td>\n",
       "    </tr>\n",
       "    <tr>\n",
       "      <th>283</th>\n",
       "      <td>439.0</td>\n",
       "      <td>600.0</td>\n",
       "      <td>435.1</td>\n",
       "      <td>585.8</td>\n",
       "      <td>2020-07-01</td>\n",
       "      <td>2020</td>\n",
       "      <td>2020Q3</td>\n",
       "      <td>164.9</td>\n",
       "    </tr>\n",
       "    <tr>\n",
       "      <th>284</th>\n",
       "      <td>595.0</td>\n",
       "      <td>934.5</td>\n",
       "      <td>584.1</td>\n",
       "      <td>928.0</td>\n",
       "      <td>2020-08-03</td>\n",
       "      <td>2020</td>\n",
       "      <td>2020Q3</td>\n",
       "      <td>350.4</td>\n",
       "    </tr>\n",
       "    <tr>\n",
       "      <th>287</th>\n",
       "      <td>498.5</td>\n",
       "      <td>648.0</td>\n",
       "      <td>495.0</td>\n",
       "      <td>636.8</td>\n",
       "      <td>2020-11-02</td>\n",
       "      <td>2020</td>\n",
       "      <td>2020Q4</td>\n",
       "      <td>153.0</td>\n",
       "    </tr>\n",
       "    <tr>\n",
       "      <th>288</th>\n",
       "      <td>641.2</td>\n",
       "      <td>900.5</td>\n",
       "      <td>633.0</td>\n",
       "      <td>873.1</td>\n",
       "      <td>2020-12-01</td>\n",
       "      <td>2020</td>\n",
       "      <td>2020Q4</td>\n",
       "      <td>267.5</td>\n",
       "    </tr>\n",
       "  </tbody>\n",
       "</table>\n",
       "</div>"
      ],
      "text/plain": [
       "      open   high    low  close        date  year quarter  price_difference\n",
       "277  404.0  444.4  387.3  435.5  2020-01-02  2020  2020Q1              57.1\n",
       "280  271.1  344.7  251.5  319.7  2020-04-01  2020  2020Q2              93.2\n",
       "281  320.0  378.5  320.0  367.1  2020-05-01  2020  2020Q2              58.5\n",
       "282  362.3  447.7  346.3  435.7  2020-06-01  2020  2020Q2             101.4\n",
       "283  439.0  600.0  435.1  585.8  2020-07-01  2020  2020Q3             164.9\n",
       "284  595.0  934.5  584.1  928.0  2020-08-03  2020  2020Q3             350.4\n",
       "287  498.5  648.0  495.0  636.8  2020-11-02  2020  2020Q4             153.0\n",
       "288  641.2  900.5  633.0  873.1  2020-12-01  2020  2020Q4             267.5"
      ]
     },
     "execution_count": 84,
     "metadata": {},
     "output_type": "execute_result"
    }
   ],
   "source": [
    "y2020_df = df[df.year == 2020]\n",
    "y2020_df[y2020_df['close'] > y2020_df['open']]"
   ]
  },
  {
   "cell_type": "markdown",
   "id": "3b98b6d5",
   "metadata": {},
   "source": [
    "## In 2000, how many months saw lumber prices rise vs lumber prices fall?"
   ]
  },
  {
   "cell_type": "code",
   "execution_count": 32,
   "id": "534265d7",
   "metadata": {},
   "outputs": [
    {
     "data": {
      "text/html": [
       "<div>\n",
       "<style scoped>\n",
       "    .dataframe tbody tr th:only-of-type {\n",
       "        vertical-align: middle;\n",
       "    }\n",
       "\n",
       "    .dataframe tbody tr th {\n",
       "        vertical-align: top;\n",
       "    }\n",
       "\n",
       "    .dataframe thead th {\n",
       "        text-align: right;\n",
       "    }\n",
       "</style>\n",
       "<table border=\"1\" class=\"dataframe\">\n",
       "  <thead>\n",
       "    <tr style=\"text-align: right;\">\n",
       "      <th></th>\n",
       "      <th>open</th>\n",
       "      <th>high</th>\n",
       "      <th>low</th>\n",
       "      <th>close</th>\n",
       "      <th>date</th>\n",
       "      <th>year</th>\n",
       "      <th>quarter</th>\n",
       "      <th>price_difference</th>\n",
       "    </tr>\n",
       "  </thead>\n",
       "  <tbody>\n",
       "    <tr>\n",
       "      <th>45</th>\n",
       "      <td>222.0</td>\n",
       "      <td>250.3</td>\n",
       "      <td>212.1</td>\n",
       "      <td>230.1</td>\n",
       "      <td>2000-09-01</td>\n",
       "      <td>2000</td>\n",
       "      <td>2000Q3</td>\n",
       "      <td>38.2</td>\n",
       "    </tr>\n",
       "    <tr>\n",
       "      <th>47</th>\n",
       "      <td>207.9</td>\n",
       "      <td>249.7</td>\n",
       "      <td>204.3</td>\n",
       "      <td>234.8</td>\n",
       "      <td>2000-11-01</td>\n",
       "      <td>2000</td>\n",
       "      <td>2000Q4</td>\n",
       "      <td>45.4</td>\n",
       "    </tr>\n",
       "  </tbody>\n",
       "</table>\n",
       "</div>"
      ],
      "text/plain": [
       "     open   high    low  close        date  year quarter  price_difference\n",
       "45  222.0  250.3  212.1  230.1  2000-09-01  2000  2000Q3              38.2\n",
       "47  207.9  249.7  204.3  234.8  2000-11-01  2000  2000Q4              45.4"
      ]
     },
     "execution_count": 32,
     "metadata": {},
     "output_type": "execute_result"
    }
   ],
   "source": [
    "y2000_df = df[df.year == 2000]\n",
    "y2000_df[y2000_df['close'] > y2000_df['open']]"
   ]
  },
  {
   "cell_type": "code",
   "execution_count": null,
   "id": "c9ed9b92",
   "metadata": {},
   "outputs": [],
   "source": []
  }
 ],
 "metadata": {
  "kernelspec": {
   "display_name": "Python 3 (ipykernel)",
   "language": "python",
   "name": "python3"
  },
  "language_info": {
   "codemirror_mode": {
    "name": "ipython",
    "version": 3
   },
   "file_extension": ".py",
   "mimetype": "text/x-python",
   "name": "python",
   "nbconvert_exporter": "python",
   "pygments_lexer": "ipython3",
   "version": "3.11.0rc2"
  }
 },
 "nbformat": 4,
 "nbformat_minor": 5
}
